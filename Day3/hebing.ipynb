{
 "cells": [
  {
   "cell_type": "code",
   "execution_count": 1,
   "id": "8be29f8d-b84b-4a93-9797-b6f69d49a5fe",
   "metadata": {},
   "outputs": [],
   "source": [
    "import pandas as pd"
   ]
  },
  {
   "cell_type": "code",
   "execution_count": 11,
   "id": "1113d2bc-f4ab-4cd5-af3e-c7cbba2a412e",
   "metadata": {},
   "outputs": [],
   "source": [
    "df1 = pd.read_csv('D:\\\\Python_work\\\\exercise_data\\\\2015年国内主要城市年度数据.csv')\n",
    "df2 = pd.read_csv('D:\\\\Python_work\\\\exercise_data\\\\2016年国内主要城市年度数据.csv')\n",
    "df3 = pd.read_csv('D:\\\\Python_work\\\\exercise_data\\\\2017年国内主要城市年度数据.csv')"
   ]
  },
  {
   "cell_type": "code",
   "execution_count": 13,
   "id": "0b275205-0d89-4194-8441-902b7eda1bb0",
   "metadata": {},
   "outputs": [
    {
     "data": {
      "text/html": [
       "<div>\n",
       "<style scoped>\n",
       "    .dataframe tbody tr th:only-of-type {\n",
       "        vertical-align: middle;\n",
       "    }\n",
       "\n",
       "    .dataframe tbody tr th {\n",
       "        vertical-align: top;\n",
       "    }\n",
       "\n",
       "    .dataframe thead th {\n",
       "        text-align: right;\n",
       "    }\n",
       "</style>\n",
       "<table border=\"1\" class=\"dataframe\">\n",
       "  <thead>\n",
       "    <tr style=\"text-align: right;\">\n",
       "      <th></th>\n",
       "      <th>地区</th>\n",
       "      <th>年份</th>\n",
       "      <th>国内生产总值</th>\n",
       "      <th>第一产业增加值</th>\n",
       "      <th>第二产业增加值</th>\n",
       "      <th>第三产业增加值</th>\n",
       "      <th>社会商品零售总额</th>\n",
       "      <th>货物进出口总额</th>\n",
       "      <th>年末总人口</th>\n",
       "      <th>在岗职工平均工资</th>\n",
       "      <th>普通高等学校在校学生数</th>\n",
       "      <th>医院、卫生院数</th>\n",
       "      <th>房地产开发投资额</th>\n",
       "    </tr>\n",
       "  </thead>\n",
       "  <tbody>\n",
       "    <tr>\n",
       "      <th>0</th>\n",
       "      <td>北京</td>\n",
       "      <td>2015</td>\n",
       "      <td>23014.59</td>\n",
       "      <td>140.21</td>\n",
       "      <td>4542.64</td>\n",
       "      <td>18331.74</td>\n",
       "      <td>10338.0</td>\n",
       "      <td>319416.16</td>\n",
       "      <td>1345.20</td>\n",
       "      <td>113073</td>\n",
       "      <td>60.36</td>\n",
       "      <td>701</td>\n",
       "      <td>4177.05</td>\n",
       "    </tr>\n",
       "    <tr>\n",
       "      <th>1</th>\n",
       "      <td>天津</td>\n",
       "      <td>2015</td>\n",
       "      <td>16538.19</td>\n",
       "      <td>208.82</td>\n",
       "      <td>7704.22</td>\n",
       "      <td>8625.15</td>\n",
       "      <td>5257.3</td>\n",
       "      <td>114282.80</td>\n",
       "      <td>1026.90</td>\n",
       "      <td>81486</td>\n",
       "      <td>51.29</td>\n",
       "      <td>661</td>\n",
       "      <td>1871.55</td>\n",
       "    </tr>\n",
       "    <tr>\n",
       "      <th>2</th>\n",
       "      <td>石家庄</td>\n",
       "      <td>2015</td>\n",
       "      <td>5440.60</td>\n",
       "      <td>494.44</td>\n",
       "      <td>2452.40</td>\n",
       "      <td>2493.77</td>\n",
       "      <td>2693.0</td>\n",
       "      <td>12160.29</td>\n",
       "      <td>1028.84</td>\n",
       "      <td>54441</td>\n",
       "      <td>41.98</td>\n",
       "      <td>393</td>\n",
       "      <td>965.13</td>\n",
       "    </tr>\n",
       "    <tr>\n",
       "      <th>3</th>\n",
       "      <td>太原</td>\n",
       "      <td>2015</td>\n",
       "      <td>2735.34</td>\n",
       "      <td>37.40</td>\n",
       "      <td>1020.18</td>\n",
       "      <td>1677.77</td>\n",
       "      <td>1540.8</td>\n",
       "      <td>10677.38</td>\n",
       "      <td>367.39</td>\n",
       "      <td>60516</td>\n",
       "      <td>42.14</td>\n",
       "      <td>247</td>\n",
       "      <td>597.83</td>\n",
       "    </tr>\n",
       "    <tr>\n",
       "      <th>4</th>\n",
       "      <td>呼和浩特</td>\n",
       "      <td>2015</td>\n",
       "      <td>3090.52</td>\n",
       "      <td>126.23</td>\n",
       "      <td>867.08</td>\n",
       "      <td>2097.21</td>\n",
       "      <td>1353.5</td>\n",
       "      <td>2072.75</td>\n",
       "      <td>238.58</td>\n",
       "      <td>53698</td>\n",
       "      <td>23.52</td>\n",
       "      <td>174</td>\n",
       "      <td>509.05</td>\n",
       "    </tr>\n",
       "  </tbody>\n",
       "</table>\n",
       "</div>"
      ],
      "text/plain": [
       "     地区    年份    国内生产总值  第一产业增加值  第二产业增加值   第三产业增加值  社会商品零售总额    货物进出口总额  \\\n",
       "0    北京  2015  23014.59   140.21  4542.64  18331.74   10338.0  319416.16   \n",
       "1    天津  2015  16538.19   208.82  7704.22   8625.15    5257.3  114282.80   \n",
       "2   石家庄  2015   5440.60   494.44  2452.40   2493.77    2693.0   12160.29   \n",
       "3    太原  2015   2735.34    37.40  1020.18   1677.77    1540.8   10677.38   \n",
       "4  呼和浩特  2015   3090.52   126.23   867.08   2097.21    1353.5    2072.75   \n",
       "\n",
       "     年末总人口  在岗职工平均工资  普通高等学校在校学生数  医院、卫生院数  房地产开发投资额  \n",
       "0  1345.20    113073        60.36      701   4177.05  \n",
       "1  1026.90     81486        51.29      661   1871.55  \n",
       "2  1028.84     54441        41.98      393    965.13  \n",
       "3   367.39     60516        42.14      247    597.83  \n",
       "4   238.58     53698        23.52      174    509.05  "
      ]
     },
     "execution_count": 13,
     "metadata": {},
     "output_type": "execute_result"
    }
   ],
   "source": [
    "df1.head()"
   ]
  },
  {
   "cell_type": "code",
   "execution_count": 17,
   "id": "e746c7dd-9504-47bd-bb1b-94f5aee28dd9",
   "metadata": {},
   "outputs": [],
   "source": [
    "# 1.纵向合并\n",
    "combined_df = pd.concat([df1, df2, df3], ignore_index=True)\n",
    "# 2.处理缺失值：填充为0\n",
    "combined_df.fillna(0, inplace=True)"
   ]
  },
  {
   "cell_type": "code",
   "execution_count": 19,
   "id": "cccb2fe1-da71-4454-896f-b58eeea16a62",
   "metadata": {},
   "outputs": [],
   "source": [
    "# 3. 按年份聚合计算GDP总和\n",
    "# 4.求国内生产总值    \n",
    "annual_gdp = combined_df.groupby('年份')['国内生产总值'].sum().reset_index()\n",
    "annual_gdp.columns = ['Year', 'Total_GDP']"
   ]
  },
  {
   "cell_type": "code",
   "execution_count": 21,
   "id": "bac31527-9de0-426f-9ca8-ca016a061db4",
   "metadata": {},
   "outputs": [
    {
     "name": "stdout",
     "output_type": "stream",
     "text": [
      "   Year  Total_GDP\n",
      "0  2015  277958.37\n",
      "1  2016  300696.10\n",
      "2  2017  332562.43\n"
     ]
    }
   ],
   "source": [
    "print(annual_gdp)"
   ]
  },
  {
   "cell_type": "code",
   "execution_count": 33,
   "id": "2d7ba541-e942-404a-823c-7ae3060d0a0d",
   "metadata": {},
   "outputs": [
    {
     "name": "stdout",
     "output_type": "stream",
     "text": [
      "GDP年均增长率最高的5个地区:\n",
      "    地区  GDP年均增长率\n",
      "28  西安  0.134742\n",
      "16  成都  0.133983\n",
      "24  深圳  0.133550\n",
      "8   合肥  0.128893\n",
      "17  拉萨  0.127888\n",
      "\n",
      "GDP年均增长率最低的5个地区:\n",
      "      地区  GDP年均增长率\n",
      "21    沈阳 -0.101958\n",
      "9   呼和浩特 -0.057776\n",
      "11    大连 -0.024070\n",
      "1   乌鲁木齐  0.021091\n",
      "10   哈尔滨  0.051187\n"
     ]
    },
    {
     "name": "stderr",
     "output_type": "stream",
     "text": [
      "C:\\Users\\和彦汝\\AppData\\Local\\Temp\\ipykernel_30988\\2149415442.py:28: DeprecationWarning: DataFrameGroupBy.apply operated on the grouping columns. This behavior is deprecated, and in a future version of pandas the grouping columns will be excluded from the operation. Either pass `include_groups=False` to exclude the groupings or explicitly select the grouping columns after groupby to silence this warning.\n",
      "  city_growth = combined_df.groupby('地区').apply(calculate_growth_rate).reset_index()\n"
     ]
    }
   ],
   "source": [
    "# 5.计算每个城市2015-2017年GDP的年均增长率，并找出增长率最高和最低的五个城市\n",
    "def calculate_growth_rate(group):\n",
    "    \"\"\"\n",
    "    计算城市2015-2017年GDP的年均增长率（CAGR）\n",
    "    :param group: 按城市分组后的DataFrame\n",
    "    :return: 年均增长率（浮点数），若数据不足或异常则返回0\n",
    "    \"\"\"\n",
    "    # 提取2015年和2017年的GDP数据\n",
    "    gdp_2015 = group[group['年份'] == 2015]['国内生产总值'].values\n",
    "    gdp_2017 = group[group['年份'] == 2017]['国内生产总值'].values\n",
    "    \n",
    "    # 检查数据是否存在\n",
    "    if len(gdp_2015) == 0 or len(gdp_2017) == 0:\n",
    "        return 0  # 缺少2015或2017年数据\n",
    "    \n",
    "    gdp_2015 = gdp_2015[0]\n",
    "    gdp_2017 = gdp_2017[0]\n",
    "    \n",
    "    # 检查数据有效性\n",
    "    if gdp_2015 <= 0:  # GDP必须为正数\n",
    "        return 0\n",
    "    \n",
    "    # 计算CAGR（2015→2017，2年间隔）\n",
    "    growth_rate = (gdp_2017 / gdp_2015) ** (1/2) - 1\n",
    "    return growth_rate\n",
    "\n",
    "# 按城市分组计算增长率\n",
    "city_growth = combined_df.groupby('地区').apply(calculate_growth_rate).reset_index()\n",
    "city_growth.columns = ['地区', 'GDP年均增长率']\n",
    " \n",
    "# 找出增长率最高和最低的5个城市\n",
    "top5_growth = city_growth.nlargest(5, 'GDP年均增长率')\n",
    "bottom5_growth = city_growth.nsmallest(5, 'GDP年均增长率')\n",
    " \n",
    "print(\"GDP年均增长率最高的5个地区:\")\n",
    "print(top5_growth)\n",
    "print(\"\\nGDP年均增长率最低的5个地区:\")\n",
    "print(bottom5_growth)"
   ]
  },
  {
   "cell_type": "code",
   "execution_count": 25,
   "id": "52f07570-a3d6-4c8a-93c0-caf027bf67d5",
   "metadata": {},
   "outputs": [
    {
     "name": "stdout",
     "output_type": "stream",
     "text": [
      "\n",
      "各年份医疗资源归一化平均值:\n",
      "     年份    归一化医院数\n",
      "0  2015  0.768986\n",
      "1  2016  0.941834\n",
      "2  2017  0.097012\n"
     ]
    },
    {
     "name": "stderr",
     "output_type": "stream",
     "text": [
      "C:\\Users\\和彦汝\\AppData\\Local\\Temp\\ipykernel_30988\\3306077608.py:12: DeprecationWarning: DataFrameGroupBy.apply operated on the grouping columns. This behavior is deprecated, and in a future version of pandas the grouping columns will be excluded from the operation. Either pass `include_groups=False` to exclude the groupings or explicitly select the grouping columns after groupby to silence this warning.\n",
      "  normalized_hospital = hospital_data.groupby('地区').apply(min_max_normalize)\n"
     ]
    }
   ],
   "source": [
    "# 6.对医院、卫生院数进行归一化处理（Min-Max标准化），并按年份比较各城市医疗资源的变化\n",
    "# 提取医院数数据（假设列名为'医院、卫生院数'）\n",
    "hospital_data = combined_df[['地区', '年份', '医院、卫生院数']].copy()\n",
    " \n",
    "# Min-Max归一化\n",
    "def min_max_normalize(group):\n",
    "    min_val = group['医院、卫生院数'].min()\n",
    "    max_val = group['医院、卫生院数'].max()\n",
    "    group['归一化医院数'] = (group['医院、卫生院数'] - min_val) / (max_val - min_val + 1e-6)  # 避免除以0\n",
    "    return group\n",
    " \n",
    "normalized_hospital = hospital_data.groupby('地区').apply(min_max_normalize)\n",
    " \n",
    "# 按年份比较医疗资源变化（计算每年平均值）\n",
    "annual_hospital = normalized_hospital.groupby('年份')['归一化医院数'].mean().reset_index()\n",
    "print(\"\\n各年份医疗资源归一化平均值:\")\n",
    "print(annual_hospital)"
   ]
  },
  {
   "cell_type": "code",
   "execution_count": 29,
   "id": "3cf9ec22-776b-40d2-9e47-d90afb739aef",
   "metadata": {},
   "outputs": [
    {
     "name": "stdout",
     "output_type": "stream",
     "text": [
      "\n",
      "已保存: 一线城市2015-2017经济数据.csv\n"
     ]
    }
   ],
   "source": [
    "# 7.提取北京、上海、广州、深圳四个城市2015-2017的GDP和社会商品零售总额数据，用新的csv呈现\n",
    "# 一线城市列表\n",
    "tier1_cities = ['北京', '上海', '广州', '深圳']\n",
    " \n",
    "# 提取相关数据（假设有'社会商品零售总额'列）\n",
    "required_columns = ['地区', '年份', '国内生产总值', '社会商品零售总额']\n",
    "tier1_data = combined_df[combined_df['地区'].isin(tier1_cities)][required_columns]\n",
    " \n",
    "# 保存到新CSV\n",
    "tier1_data.to_csv('一线城市2015-2017经济数据.csv', index=False, encoding='utf_8_sig')\n",
    "print(\"\\n已保存: 一线城市2015-2017经济数据.csv\")\n"
   ]
  },
  {
   "cell_type": "code",
   "execution_count": null,
   "id": "59f0fdce-6b54-4268-98fe-332100cd95c4",
   "metadata": {},
   "outputs": [],
   "source": []
  }
 ],
 "metadata": {
  "kernelspec": {
   "display_name": "Python 3 (ipykernel)",
   "language": "python",
   "name": "python3"
  },
  "language_info": {
   "codemirror_mode": {
    "name": "ipython",
    "version": 3
   },
   "file_extension": ".py",
   "mimetype": "text/x-python",
   "name": "python",
   "nbconvert_exporter": "python",
   "pygments_lexer": "ipython3",
   "version": "3.12.4"
  }
 },
 "nbformat": 4,
 "nbformat_minor": 5
}
