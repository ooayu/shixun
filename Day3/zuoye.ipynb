{
 "cells": [
  {
   "cell_type": "code",
   "execution_count": 17,
   "id": "4a6a565c-0d46-4431-b4a0-faa16634b228",
   "metadata": {},
   "outputs": [],
   "source": [
    "import pandas as pd\n",
    "data = {'Student_ID':[11,22,33,44,55],'Name':['A',None,'C','D','E'], 'Score':[None,77,88,99,98],'Grade':[1,3,2,1,3]}\n",
    "df = pd.DataFrame(data)\n",
    "# 保存为 CSV\n",
    "df.to_csv('students.csv', index=False)  # index=False 表示不保存行索引"
   ]
  },
  {
   "cell_type": "code",
   "execution_count": 19,
   "id": "bbd39c0c-0301-478f-853b-4842236a8319",
   "metadata": {},
   "outputs": [
    {
     "data": {
      "text/html": [
       "<div>\n",
       "<style scoped>\n",
       "    .dataframe tbody tr th:only-of-type {\n",
       "        vertical-align: middle;\n",
       "    }\n",
       "\n",
       "    .dataframe tbody tr th {\n",
       "        vertical-align: top;\n",
       "    }\n",
       "\n",
       "    .dataframe thead th {\n",
       "        text-align: right;\n",
       "    }\n",
       "</style>\n",
       "<table border=\"1\" class=\"dataframe\">\n",
       "  <thead>\n",
       "    <tr style=\"text-align: right;\">\n",
       "      <th></th>\n",
       "      <th>Student_ID</th>\n",
       "      <th>Name</th>\n",
       "      <th>Score</th>\n",
       "      <th>Grade</th>\n",
       "    </tr>\n",
       "  </thead>\n",
       "  <tbody>\n",
       "    <tr>\n",
       "      <th>0</th>\n",
       "      <td>11</td>\n",
       "      <td>A</td>\n",
       "      <td>NaN</td>\n",
       "      <td>1</td>\n",
       "    </tr>\n",
       "    <tr>\n",
       "      <th>1</th>\n",
       "      <td>22</td>\n",
       "      <td>None</td>\n",
       "      <td>77.0</td>\n",
       "      <td>3</td>\n",
       "    </tr>\n",
       "    <tr>\n",
       "      <th>2</th>\n",
       "      <td>33</td>\n",
       "      <td>C</td>\n",
       "      <td>88.0</td>\n",
       "      <td>2</td>\n",
       "    </tr>\n",
       "  </tbody>\n",
       "</table>\n",
       "</div>"
      ],
      "text/plain": [
       "   Student_ID  Name  Score  Grade\n",
       "0          11     A    NaN      1\n",
       "1          22  None   77.0      3\n",
       "2          33     C   88.0      2"
      ]
     },
     "execution_count": 19,
     "metadata": {},
     "output_type": "execute_result"
    }
   ],
   "source": [
    "df_read = pd.read_csv('students.csv')\n",
    "df.head(3)"
   ]
  },
  {
   "cell_type": "code",
   "execution_count": 21,
   "id": "4cc15c2c-2b55-4b5d-8f14-5c542426dcc0",
   "metadata": {},
   "outputs": [],
   "source": [
    "df_read['Score'] = df_read['Score'].fillna(df_read['Score'].mean())  # 将 None 替换为 0"
   ]
  },
  {
   "cell_type": "code",
   "execution_count": 23,
   "id": "a7445cb1-f501-4120-9bbe-723f9d2eaa4c",
   "metadata": {},
   "outputs": [],
   "source": [
    "df_read['Name'] = df_read['Name'].fillna('Unknown')"
   ]
  },
  {
   "cell_type": "code",
   "execution_count": 25,
   "id": "cc4c3440-dfc1-4bd2-aad1-03fd746d9760",
   "metadata": {},
   "outputs": [],
   "source": [
    "df_read.to_csv('students_cleaned.csv', index=False)  # index=False 表示不保存行索引"
   ]
  },
  {
   "cell_type": "code",
   "execution_count": null,
   "id": "fa34aaad-2719-4e27-9d53-b7813b985219",
   "metadata": {},
   "outputs": [],
   "source": []
  }
 ],
 "metadata": {
  "kernelspec": {
   "display_name": "Python 3 (ipykernel)",
   "language": "python",
   "name": "python3"
  },
  "language_info": {
   "codemirror_mode": {
    "name": "ipython",
    "version": 3
   },
   "file_extension": ".py",
   "mimetype": "text/x-python",
   "name": "python",
   "nbconvert_exporter": "python",
   "pygments_lexer": "ipython3",
   "version": "3.12.4"
  }
 },
 "nbformat": 4,
 "nbformat_minor": 5
}
