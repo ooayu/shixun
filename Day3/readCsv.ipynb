{
 "cells": [
  {
   "cell_type": "code",
   "execution_count": 1,
   "id": "8e64114e-419d-41cc-9917-1ccad2aca0aa",
   "metadata": {},
   "outputs": [],
   "source": [
    "import pandas as pd"
   ]
  },
  {
   "cell_type": "code",
   "execution_count": 7,
   "id": "02ac9107-5b6d-4b70-a20f-1c053f4b0199",
   "metadata": {},
   "outputs": [],
   "source": [
    "df = pd.read_csv(\"D:\\\\Python_work\\\\exercise_data\\\\drinks.csv\")"
   ]
  },
  {
   "cell_type": "code",
   "execution_count": 19,
   "id": "5a909c7b-5740-4fe9-890c-34b3fdceceae",
   "metadata": {},
   "outputs": [
    {
     "name": "stdout",
     "output_type": "stream",
     "text": [
      "平均消耗啤酒最多的大陆是: EU, 平均消耗量为: 193.78 份/人\n",
      "\n"
     ]
    }
   ],
   "source": [
    "#平均消耗的啤酒(beer)更多\n",
    "average_beer = df.groupby('continent')['beer_servings'].mean()\n",
    "max_beer_continent = average_beer.idxmax()\n",
    "max_beer_value = average_beer.max()\n",
    "print(f\"平均消耗啤酒最多的大陆是: {max_beer_continent}, 平均消耗量为: {max_beer_value:.2f} 份/人\\n\")"
   ]
  },
  {
   "cell_type": "code",
   "execution_count": 13,
   "id": "68420387-b567-4d45-a751-f313ba85af56",
   "metadata": {},
   "outputs": [
    {
     "data": {
      "text/html": [
       "<div>\n",
       "<style scoped>\n",
       "    .dataframe tbody tr th:only-of-type {\n",
       "        vertical-align: middle;\n",
       "    }\n",
       "\n",
       "    .dataframe tbody tr th {\n",
       "        vertical-align: top;\n",
       "    }\n",
       "\n",
       "    .dataframe thead th {\n",
       "        text-align: right;\n",
       "    }\n",
       "</style>\n",
       "<table border=\"1\" class=\"dataframe\">\n",
       "  <thead>\n",
       "    <tr style=\"text-align: right;\">\n",
       "      <th></th>\n",
       "      <th>count</th>\n",
       "      <th>mean</th>\n",
       "      <th>std</th>\n",
       "      <th>min</th>\n",
       "      <th>25%</th>\n",
       "      <th>50%</th>\n",
       "      <th>75%</th>\n",
       "      <th>max</th>\n",
       "    </tr>\n",
       "    <tr>\n",
       "      <th>continent</th>\n",
       "      <th></th>\n",
       "      <th></th>\n",
       "      <th></th>\n",
       "      <th></th>\n",
       "      <th></th>\n",
       "      <th></th>\n",
       "      <th></th>\n",
       "      <th></th>\n",
       "    </tr>\n",
       "  </thead>\n",
       "  <tbody>\n",
       "    <tr>\n",
       "      <th>AF</th>\n",
       "      <td>53.0</td>\n",
       "      <td>16.264151</td>\n",
       "      <td>38.846419</td>\n",
       "      <td>0.0</td>\n",
       "      <td>1.0</td>\n",
       "      <td>2.0</td>\n",
       "      <td>13.00</td>\n",
       "      <td>233.0</td>\n",
       "    </tr>\n",
       "    <tr>\n",
       "      <th>AS</th>\n",
       "      <td>44.0</td>\n",
       "      <td>9.068182</td>\n",
       "      <td>21.667034</td>\n",
       "      <td>0.0</td>\n",
       "      <td>0.0</td>\n",
       "      <td>1.0</td>\n",
       "      <td>8.00</td>\n",
       "      <td>123.0</td>\n",
       "    </tr>\n",
       "    <tr>\n",
       "      <th>EU</th>\n",
       "      <td>45.0</td>\n",
       "      <td>142.222222</td>\n",
       "      <td>97.421738</td>\n",
       "      <td>0.0</td>\n",
       "      <td>59.0</td>\n",
       "      <td>128.0</td>\n",
       "      <td>195.00</td>\n",
       "      <td>370.0</td>\n",
       "    </tr>\n",
       "    <tr>\n",
       "      <th>OC</th>\n",
       "      <td>16.0</td>\n",
       "      <td>35.625000</td>\n",
       "      <td>64.555790</td>\n",
       "      <td>0.0</td>\n",
       "      <td>1.0</td>\n",
       "      <td>8.5</td>\n",
       "      <td>23.25</td>\n",
       "      <td>212.0</td>\n",
       "    </tr>\n",
       "    <tr>\n",
       "      <th>SA</th>\n",
       "      <td>12.0</td>\n",
       "      <td>62.416667</td>\n",
       "      <td>88.620189</td>\n",
       "      <td>1.0</td>\n",
       "      <td>3.0</td>\n",
       "      <td>12.0</td>\n",
       "      <td>98.50</td>\n",
       "      <td>221.0</td>\n",
       "    </tr>\n",
       "  </tbody>\n",
       "</table>\n",
       "</div>"
      ],
      "text/plain": [
       "           count        mean        std  min   25%    50%     75%    max\n",
       "continent                                                               \n",
       "AF          53.0   16.264151  38.846419  0.0   1.0    2.0   13.00  233.0\n",
       "AS          44.0    9.068182  21.667034  0.0   0.0    1.0    8.00  123.0\n",
       "EU          45.0  142.222222  97.421738  0.0  59.0  128.0  195.00  370.0\n",
       "OC          16.0   35.625000  64.555790  0.0   1.0    8.5   23.25  212.0\n",
       "SA          12.0   62.416667  88.620189  1.0   3.0   12.0   98.50  221.0"
      ]
     },
     "execution_count": 13,
     "metadata": {},
     "output_type": "execute_result"
    }
   ],
   "source": [
    "#每个大陆的红酒消耗(wine_servings)的描述性统计值\n",
    "df.groupby('continent')['wine_servings'].describe()"
   ]
  },
  {
   "cell_type": "code",
   "execution_count": 15,
   "id": "d36b4709-b3b8-4127-bfc8-80bacfe0f472",
   "metadata": {},
   "outputs": [
    {
     "name": "stdout",
     "output_type": "stream",
     "text": [
      "3. 每个大陆每种酒类别的消耗平均值:\n",
      "           beer_servings  wine_servings  spirit_servings\n",
      "continent                                               \n",
      "AF             61.471698      16.264151        16.339623\n",
      "AS             37.045455       9.068182        60.840909\n",
      "EU            193.777778     142.222222       132.555556\n",
      "OC             89.687500      35.625000        58.437500\n",
      "SA            175.083333      62.416667       114.750000\n"
     ]
    }
   ],
   "source": [
    "alcohol_avg = df.groupby('continent')[['beer_servings', 'wine_servings', 'spirit_servings']].mean()\n",
    " \n",
    "print(\"每个大陆每种酒类别的消耗平均值:\")\n",
    "print(alcohol_avg.to_string())"
   ]
  },
  {
   "cell_type": "code",
   "execution_count": 21,
   "id": "41fbfec0-3d46-4ffd-9fda-89d362b7b155",
   "metadata": {},
   "outputs": [
    {
     "name": "stdout",
     "output_type": "stream",
     "text": [
      "4. 每个大陆每种酒类别的消耗中位数:\n",
      "           beer_servings  wine_servings  spirit_servings\n",
      "continent                                               \n",
      "AF                  32.0            2.0              3.0\n",
      "AS                  17.5            1.0             16.0\n",
      "EU                 219.0          128.0            122.0\n",
      "OC                  52.5            8.5             37.0\n",
      "SA                 162.5           12.0            108.5\n"
     ]
    }
   ],
   "source": [
    "alcohol_median = df.groupby('continent')[['beer_servings', 'wine_servings', 'spirit_servings']].median()\n",
    " \n",
    "print(\"4. 每个大陆每种酒类别的消耗中位数:\")\n",
    "print(alcohol_median.to_string())"
   ]
  },
  {
   "cell_type": "code",
   "execution_count": null,
   "id": "13351861-0d13-4562-b219-e800293cf130",
   "metadata": {},
   "outputs": [],
   "source": []
  }
 ],
 "metadata": {
  "kernelspec": {
   "display_name": "Python 3 (ipykernel)",
   "language": "python",
   "name": "python3"
  },
  "language_info": {
   "codemirror_mode": {
    "name": "ipython",
    "version": 3
   },
   "file_extension": ".py",
   "mimetype": "text/x-python",
   "name": "python",
   "nbconvert_exporter": "python",
   "pygments_lexer": "ipython3",
   "version": "3.12.4"
  }
 },
 "nbformat": 4,
 "nbformat_minor": 5
}
