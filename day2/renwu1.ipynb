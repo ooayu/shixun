{
 "cells": [
  {
   "cell_type": "code",
   "execution_count": 2,
   "id": "d1c544cd",
   "metadata": {},
   "outputs": [],
   "source": [
    "import numpy as np"
   ]
  },
  {
   "cell_type": "code",
   "execution_count": 9,
   "id": "a5ea63db",
   "metadata": {},
   "outputs": [
    {
     "name": "stdout",
     "output_type": "stream",
     "text": [
      "[[ 1  2  3  4]\n",
      " [ 5  6  7  8]\n",
      " [ 9 10 11 12]]\n",
      "数组形状： (3, 4)\n",
      "数组维度： 2\n",
      "数据类型： int32\n"
     ]
    }
   ],
   "source": [
    "# 作业1\n",
    "array1 = np.arange(1,13).reshape(3,4)\n",
    "print(array1)\n",
    "print(\"数组形状：\",array1.shape)\n",
    "print(\"数组维度：\",array1.ndim)\n",
    "print(\"数据类型：\",array1.dtype)"
   ]
  },
  {
   "cell_type": "code",
   "execution_count": 4,
   "id": "fead74d1",
   "metadata": {},
   "outputs": [
    {
     "name": "stdout",
     "output_type": "stream",
     "text": [
      "元素乘2: [[ 2  4  6  8]\n",
      " [10 12 14 16]\n",
      " [18 20 22 24]]\n"
     ]
    }
   ],
   "source": [
    "print(\"元素乘2:\",array1 * 2)"
   ]
  },
  {
   "cell_type": "code",
   "execution_count": 5,
   "id": "7eb44672",
   "metadata": {},
   "outputs": [
    {
     "name": "stdout",
     "output_type": "stream",
     "text": [
      "重塑后的数组： [[ 1  2  3]\n",
      " [ 4  5  6]\n",
      " [ 7  8  9]\n",
      " [10 11 12]]\n"
     ]
    }
   ],
   "source": [
    "arr = array1.reshape(4,3)\n",
    "print(\"重塑后的数组：\",arr)"
   ]
  },
  {
   "cell_type": "code",
   "execution_count": 6,
   "id": "d264ae9d",
   "metadata": {},
   "outputs": [
    {
     "name": "stdout",
     "output_type": "stream",
     "text": [
      "[5 6 7 8]\n",
      "[ 3  7 11 15]\n",
      "第1、2行，第3、4列 [[2 3]\n",
      " [6 7]]\n",
      "替换后的数组：\n",
      "[[ 1  2  3  4]\n",
      " [ 5  6  7  8]\n",
      " [ 9 10  0  0]\n",
      " [ 0  0  0  0]]\n"
     ]
    }
   ],
   "source": [
    "# 作业2\n",
    "array2 = np.array([[1, 2, 3, 4],\n",
    "                  [5, 6, 7, 8],\n",
    "                  [9, 10, 11, 12],\n",
    "                  [13, 14, 15, 16]])\n",
    "print(array2[1,])\n",
    "print(array2[:,2])\n",
    "print(\"第1、2行，第3、4列\",array2[:2,1:3])\n",
    "array2[array2 > 10] = 0\n",
    "print(\"替换后的数组：\")\n",
    "print(array2)"
   ]
  },
  {
   "cell_type": "code",
   "execution_count": 10,
   "id": "0f93edd1",
   "metadata": {},
   "outputs": [
    {
     "data": {
      "text/plain": [
       "array([ 50, 110, 170])"
      ]
     },
     "execution_count": 10,
     "metadata": {},
     "output_type": "execute_result"
    }
   ],
   "source": [
    "# 作业3\n",
    "array_A = np.arange(1,7).reshape(3,2)\n",
    "array_B = np.array([10, 20])\n",
    "array_A + array_B\n",
    "array_A * array_B\n",
    "np.dot(array_A, array_B)  # 或 A @ B"
   ]
  },
  {
   "cell_type": "code",
   "execution_count": null,
   "id": "4b56310f",
   "metadata": {},
   "outputs": [],
   "source": []
  }
 ],
 "metadata": {
  "kernelspec": {
   "display_name": "base",
   "language": "python",
   "name": "python3"
  },
  "language_info": {
   "codemirror_mode": {
    "name": "ipython",
    "version": 3
   },
   "file_extension": ".py",
   "mimetype": "text/x-python",
   "name": "python",
   "nbconvert_exporter": "python",
   "pygments_lexer": "ipython3",
   "version": "3.12.4"
  }
 },
 "nbformat": 4,
 "nbformat_minor": 5
}
